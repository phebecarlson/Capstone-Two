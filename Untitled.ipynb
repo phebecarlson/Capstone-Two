{
 "cells": [
  {
   "cell_type": "code",
   "execution_count": null,
   "id": "1e93044a",
   "metadata": {},
   "outputs": [],
   "source": [
    "import pandas as pd\n",
    "import numpy as np\n",
    "import matplotlib.pyplot as plt\n",
    "import seaborn as sns\n",
    "import missingno as msno\n",
    "%matplotlib inline\n",
    "import os\n",
    "from warnings import simplefilter\n",
    "# ignore all future warnings\n",
    "simplefilter(action='ignore', category=FutureWarning)\n",
    "\n",
    "from imblearn.over_sampling import RandomOverSampler\n",
    "from imblearn.under_sampling import RandomUnderSampler\n",
    "from collections import Counter\n",
    "\n",
    "from dython.nominal import associations, numerical_encoding, cluster_correlations\n",
    "from dython.data_utils import split_hist\n",
    "\n",
    "from sklearn.preprocessing import LabelEncoder, StandardScaler, RobustScaler\n",
    "from sklearn.model_selection import train_test_split"
   ]
  },
  {
   "cell_type": "code",
   "execution_count": null,
   "id": "cda23c28",
   "metadata": {},
   "outputs": [],
   "source": [
    "import os \n",
    "os.getcwd()"
   ]
  },
  {
   "cell_type": "code",
   "execution_count": null,
   "id": "9b6bec36",
   "metadata": {},
   "outputs": [],
   "source": [
    "import pyreadstat"
   ]
  },
  {
   "cell_type": "code",
   "execution_count": null,
   "id": "cebd8789",
   "metadata": {},
   "outputs": [],
   "source": []
  },
  {
   "cell_type": "code",
   "execution_count": null,
   "id": "7a95ed77",
   "metadata": {},
   "outputs": [],
   "source": [
    "brfss, meta = pyreadstat.read_xport('/Users/phebe/GitHub/Capstone-Two/LLCP2020.xpt')"
   ]
  },
  {
   "cell_type": "code",
   "execution_count": null,
   "id": "5619ba28",
   "metadata": {},
   "outputs": [],
   "source": [
    "brfss"
   ]
  },
  {
   "cell_type": "code",
   "execution_count": null,
   "id": "fdb85e81",
   "metadata": {},
   "outputs": [],
   "source": [
    "brfss.isna().sum()"
   ]
  },
  {
   "cell_type": "code",
   "execution_count": null,
   "id": "94e636c1",
   "metadata": {},
   "outputs": [],
   "source": [
    "brfss.columns"
   ]
  },
  {
   "cell_type": "code",
   "execution_count": null,
   "id": "ae762bfa",
   "metadata": {},
   "outputs": [],
   "source": [
    "cvd = [col for col in brfss.columns if 'CVD' in col or 'CHD' in col]"
   ]
  },
  {
   "cell_type": "code",
   "execution_count": null,
   "id": "4cbbc0cf",
   "metadata": {},
   "outputs": [],
   "source": [
    "cvd"
   ]
  },
  {
   "cell_type": "code",
   "execution_count": null,
   "id": "644a6510",
   "metadata": {},
   "outputs": [],
   "source": [
    "care = [col for col in brfss.columns if 'CRG' in col]"
   ]
  },
  {
   "cell_type": "code",
   "execution_count": null,
   "id": "2dd20b60",
   "metadata": {},
   "outputs": [],
   "source": [
    "cancer = [col for col in brfss.columns if 'CNCR' in col or 'CSRV' in col]\n",
    "colon = [col for col in brfss.columns if 'SGM' in col] \n",
    "colontest = ['COLNSCPY','COLNTEST','SIGMSCPY','SIGMTEST','BLDSTOL1','LSTBLDS4','STOOLDNA','SDNATEST','VIRCOLON',\n",
    "             'VCLNTEST','_CLNSCPY', '_VIRCOLN','_STOLDNA','_SBONTIM', ' _CRCREC1', '_STOLDNA']\n",
    "breastcerv = ['HADMAM','HOWLONG','HADPAP2','LASTPAP2','HPVTEST','HPLSTTST','HADHYST2','_RFMAM22','_MAM5023','_RFPAP35']\n",
    "prostate = ['PCPSAAD3','PCPSADI1','PCPSARE1','PSATEST1', 'PSATIME','PCPSARS1','PCPSADE1','PCDMDEC1','_RFPSA23','']\n",
    "lung = ['LCSFIRST','LCSLAST',' LCSNUMCG','LCSCTSCN']\n"
   ]
  },
  {
   "cell_type": "code",
   "execution_count": null,
   "id": "234b8660",
   "metadata": {},
   "outputs": [],
   "source": [
    "colon"
   ]
  },
  {
   "cell_type": "code",
   "execution_count": null,
   "id": "28eb03df",
   "metadata": {},
   "outputs": [],
   "source": [
    "cancer"
   ]
  },
  {
   "cell_type": "code",
   "execution_count": null,
   "id": "1d9e9285",
   "metadata": {},
   "outputs": [],
   "source": []
  },
  {
   "cell_type": "code",
   "execution_count": null,
   "id": "3316b2ac",
   "metadata": {},
   "outputs": [],
   "source": [
    "vaccine = ['FLUSHOT7','FLSHTMY3','SHINGLE2','PNEUVAC4','HPVADVC4','HPVADSHT','TETANUS1','IMFVPLA1']\n",
    "insuraccess = ['HLTHCVR1','_HCVU651','HLTHPLN1','PERSDOC2','MEDCOST','CHECKUP1']\n",
    "asthma = ['_LTASTH1', '_CASTHM1', '_ASTHMS1']\n",
    "diabetes = ['PDIABTST','PREDIAB1','INSULIN1','BLDSUGAR','FEETCHK3','DOCTDIAB','CHKHEMO3','FEETCHK','EYEEXAM1','DIABEYE',\n",
    "           'DIABEDU','DIABAGE3','DIABETE4','']\n",
    "disability = ['DEAF','BLIND','DECIDE','DIFFWALK','DIFFDRES','DIFFALON']\n",
    "\n",
    "smoker = ['SMOKE100',' SMOKDAY2',' STOPSMK2','LASTSMK2','USENOW3']\n",
    "marijuana = ['MARIJAN1','USEMRJN2','RSNMRJN1']\n",
    "drnk = [col for col in brfss.columns if 'DRNK' in col or 'ALC' in col] \n",
    "drnk.remove('_DUALCOR')"
   ]
  },
  {
   "cell_type": "code",
   "execution_count": null,
   "id": "bb4427f2",
   "metadata": {},
   "outputs": [],
   "source": [
    "demographics = ['RENTHOM1','_EDUCAG','EDUCAT','MARITAL','EMPLOY1',' INCOME2']"
   ]
  },
  {
   "cell_type": "code",
   "execution_count": null,
   "id": "9779021d",
   "metadata": {},
   "outputs": [],
   "source": [
    "ace = [col for col in brfss.columns if 'ACED' in col or 'ACEP' in col or 'ACET' in col or 'ACEH' in col or 'ACES' in col]\n",
    "\n",
    "ace.remove('_RACEPRV')"
   ]
  },
  {
   "cell_type": "code",
   "execution_count": null,
   "id": "5053b018",
   "metadata": {},
   "outputs": [],
   "source": [
    "df = brfss.copy()"
   ]
  },
  {
   "cell_type": "code",
   "execution_count": null,
   "id": "7ad17f91",
   "metadata": {},
   "outputs": [],
   "source": [
    "df.drop(columns=['ECIGARET','ECIGNOW','CASTHDX2', 'CASTHNO2','MARIJAN1','USEMRJN2','RSNMRJN1','_RFBING5', 'SEXVAR',\n",
    "                 'SEATBELT','DRNKDRI2','_RFBLDS4', 'DROCDY3_','FALL12MN','FALLINJ4','_ALTETH3','RCSGENDR','RCSRLTN2',\n",
    "                 '_DRDXAR2', '_EXTETH3', '_STSTR','_CHISPNC','_CPRACE','_CLLCPWT','_CRACE1','_DUALCOR','_LLCPWT2',\n",
    "                 '_RAWRAKE','_WT2RAKE','_STRWT','MSCODE' ,'_STOLDNA', 'PSATIME','PCPSARS1', 'PCPSAAD3','PCPSARE1',\n",
    "                 'CASTHDX2', 'CHCSCNCR', 'CHCOCNCR', 'CNCRDIFF', 'CNCRAGE', 'CNCRTYP1','PSATEST1', 'PCPSADI1','CNCRTYP1',\n",
    "                 '_SGMSCPY', '_SGMS10Y', '_CHLDCNT'], inplace=True)\n"
   ]
  },
  {
   "cell_type": "code",
   "execution_count": null,
   "id": "ee6b2d19",
   "metadata": {},
   "outputs": [],
   "source": [
    "df.drop(columns=['_DRNKDRV', '_RFMAM22', '_MAM5023', '_RFPAP35', '_RFPSA23', '_CLNSCPY','_VIRCOLN', '_SBONTIM',\n",
    "                 '_CRCREC1', '_AIDTST4', '_SMOKER3', '_RFSMOK3', 'DRNKANY5', '_DRNKWK1','_FLSHOT7', '_PNEUMO3', '_RFSEAT2', '_RFSEAT3'], inplace=True)\n"
   ]
  },
  {
   "cell_type": "code",
   "execution_count": null,
   "id": "31935f6c",
   "metadata": {},
   "outputs": [],
   "source": [
    "df.drop(columns=['_SMOKER3', 'DRNKANY5', '_DRNKWK1','_FLSHOT7', '_PNEUMO3', '_RFSEAT2', '_RFSEAT3','CTELENM1','_PSU',\n",
    "                'DISPCODE','IDAY','IYEAR','IMONTH'], inplace=True)\n"
   ]
  },
  {
   "cell_type": "code",
   "execution_count": null,
   "id": "376f5d29",
   "metadata": {},
   "outputs": [],
   "source": [
    "df.drop(columns=['HTIN4','HTM4','WTKG3','COLNSCPY','COLNTEST','SIGMSCPY','SIGMTEST','BLDSTOL1','LSTBLDS4','STOOLDNA',\n",
    "                 'SDNATEST','VIRCOLON','VCLNTEST', '_VIRCOLN','_STOLDNA','_SBONTIM', ' _CRCREC1', '_STOLDNA',\n",
    "                 'HADMAM','HOWLONG','HADPAP2','LASTPAP2','HPVTEST','HPLSTTST','HADHYST2','_RFMAM22','_MAM5023','_RFPAP35',\n",
    "                 'PCPSAAD3','PCPSADI1','PCPSARE1','PSATEST1', 'PSATIME','PCPSARS1','PCPSADE1','PCDMDEC1','_RFPSA23',\n",
    "                 'LCSFIRST','LCSLAST',' LCSNUMCG','LCSCTSCN','PVTRESD1','CELLSEX','CADULT1','CELLFON5','COLGHOUS'], inplace=True)"
   ]
  },
  {
   "cell_type": "code",
   "execution_count": null,
   "id": "759bad90",
   "metadata": {},
   "outputs": [],
   "source": [
    "df.columns"
   ]
  },
  {
   "cell_type": "code",
   "execution_count": null,
   "id": "e6dd1354",
   "metadata": {},
   "outputs": [],
   "source": [
    "df['SEQNO']"
   ]
  },
  {
   "cell_type": "code",
   "execution_count": null,
   "id": "d30df5d0",
   "metadata": {},
   "outputs": [],
   "source": [
    "df.drop(columns)"
   ]
  },
  {
   "cell_type": "code",
   "execution_count": null,
   "id": "fd80dace",
   "metadata": {},
   "outputs": [],
   "source": [
    "# questionnaire version - landline, cell phone etc --- QSTVER\n",
    "# language english, spanish, other -- QSTLANG\n",
    "# metropolitan/urban status --  _METSTAT/_URBSTAT  \n",
    "# race -  Imputed race/ethnicity value (This value is the reported race/ethnicity or an imputed race/ethnicity, if the \n",
    "#      respondent refused to give a race/ethnicity. The value of the imputed race/ethnicity will be the most common\n",
    "#      race/ethnicity response for that region of the state) -  _IMPRACE\n",
    "# mental heatlh computed -- _MENT14D \n",
    "# physical heatlh computed --  _PHYS14D\n",
    "# healthcare coverage --  _HCVU651,  HLTHPLN1  \n",
    "# physical activity calculated --  _TOTINDA \n",
    "# computed asthma status --  _ASTHMS1 \n",
    "# dental visit in last year computed --  _DENVST3 \n",
    "# preferred race calculated -- _PRACE1 \n",
    "# computed race prevalence --  _RACEPRV \n",
    "# calculated birth sex --  _SEX (same as SEXVAR, checked)\n",
    "# Adults aged 18+ who have had permanent teeth extracted  computed -- _EXTETH3 \n",
    "# all natural teeth extracted -- _ALTETH3 \n",
    "# adults with good/better health calculated  _RFHLTH\n",
    "# 5 year age groupings calculated --  _AGEG5YR\n",
    "# age 65 year --  _AGE65YR -- survey is already surveying double the number of elderly in the US than pop proportion of 16%\n",
    "# imputed age category --  _AGE_G \n",
    "# BMI categories computed --  _BMI5CAT \n",
    "# computed levels of education --  _EDUCAG \n",
    "# income categories computed --  _INCOMG \n",
    "# smoking statuses --  _SMOKER3 \n",
    "# current smoker --  _RFSMOK3\n",
    "# flu shot --  _FLSHOT7 \n",
    "# pneumonia vax --  _PNEUMO3 \n",
    "# mammogram in past 2 years -- _RFMAM22\n",
    "# ever tested for HIV calculated --  _AIDTST4 \n",
    "# ever been told you have prediabetes -- PREDIAB1 \n",
    "# had a test in lasfft year for high blood sugar -- PDIABTST\n",
    "# told you have hepc -- TOLDHEPC\n",
    "# exercise in last 30 days -- EXERANY2\n",
    "# sleep --  SLEPTIM1 \n",
    "# ever had depression -- ADDEPEV3 \n",
    "# veterans -- VETERAN3 \n",
    "\n",
    "\n",
    "\n",
    "# have a bunch of weights, maybe they were used in calculations"
   ]
  }
 ],
 "metadata": {
  "kernelspec": {
   "display_name": "Python 3 (ipykernel)",
   "language": "python",
   "name": "python3"
  },
  "language_info": {
   "codemirror_mode": {
    "name": "ipython",
    "version": 3
   },
   "file_extension": ".py",
   "mimetype": "text/x-python",
   "name": "python",
   "nbconvert_exporter": "python",
   "pygments_lexer": "ipython3",
   "version": "3.9.10"
  }
 },
 "nbformat": 4,
 "nbformat_minor": 5
}
