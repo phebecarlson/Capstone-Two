{
 "cells": [
  {
   "cell_type": "code",
   "execution_count": 11,
   "id": "e578ef6a",
   "metadata": {},
   "outputs": [],
   "source": [
    "import pandas as pd\n",
    "import numpy as np\n",
    "import matplotlib.pyplot as plt\n",
    "import missingno as msno\n",
    "%matplotlib inline\n",
    "import os"
   ]
  },
  {
   "cell_type": "code",
   "execution_count": 12,
   "id": "02a5f56b",
   "metadata": {},
   "outputs": [
    {
     "name": "stdout",
     "output_type": "stream",
     "text": [
      "/Users/phebe/GitHub/Springboard/CapstoneTwo\n"
     ]
    }
   ],
   "source": [
    "working_directory = os.getcwd()\n",
    "print(working_directory)"
   ]
  },
  {
   "cell_type": "code",
   "execution_count": 13,
   "id": "14a0d445",
   "metadata": {},
   "outputs": [],
   "source": [
    "# Imported using variables due to path issues.\n",
    "path = '/Users/phebe/GitHub/Springboard/CapstoneTwo/data/EEG_machinelearning_data_BRMH.csv'\n",
    "psych_data = pd.read_csv(path)\n",
    "data_uc = psych_data.copy()"
   ]
  },
  {
   "cell_type": "markdown",
   "id": "210881eb",
   "metadata": {},
   "source": [
    "# Inspect data"
   ]
  },
  {
   "cell_type": "code",
   "execution_count": 14,
   "id": "b077f3e4",
   "metadata": {
    "scrolled": true
   },
   "outputs": [
    {
     "data": {
      "text/plain": [
       "<bound method DataFrame.info of      no. sex   age    eeg.date  education     IQ       main.disorder  \\\n",
       "0      1   M  57.0   2012.8.30        NaN    NaN  Addictive disorder   \n",
       "1      2   M  37.0    2012.9.6        6.0  120.0  Addictive disorder   \n",
       "2      3   M  32.0   2012.9.10       16.0  113.0  Addictive disorder   \n",
       "3      4   M  35.0   2012.10.8       18.0  126.0  Addictive disorder   \n",
       "4      5   M  36.0  2012.10.18       16.0  112.0  Addictive disorder   \n",
       "..   ...  ..   ...         ...        ...    ...                 ...   \n",
       "940  941   M  22.0   2014.8.28       13.0  116.0     Healthy control   \n",
       "941  942   M  26.0   2014.9.19       13.0  118.0     Healthy control   \n",
       "942  943   M  26.0   2014.9.27       16.0  113.0     Healthy control   \n",
       "943  944   M  24.0   2014.9.20       13.0  107.0     Healthy control   \n",
       "944  945   M  21.0  2015.10.23       13.0  105.0     Healthy control   \n",
       "\n",
       "        specific.disorder  AB.A.delta.a.FP1  AB.A.delta.b.FP2  ...  \\\n",
       "0    Alcohol use disorder         35.998557         21.717375  ...   \n",
       "1    Alcohol use disorder         13.425118         11.002916  ...   \n",
       "2    Alcohol use disorder         29.941780         27.544684  ...   \n",
       "3    Alcohol use disorder         21.496226         21.846832  ...   \n",
       "4    Alcohol use disorder         37.775667         33.607679  ...   \n",
       "..                    ...               ...               ...  ...   \n",
       "940       Healthy control         41.851823         36.771496  ...   \n",
       "941       Healthy control         18.986856         19.401387  ...   \n",
       "942       Healthy control         28.781317         32.369230  ...   \n",
       "943       Healthy control         19.929100         25.196375  ...   \n",
       "944       Healthy control         65.195346         69.241972  ...   \n",
       "\n",
       "     COH.F.gamma.o.Pz.p.P4  COH.F.gamma.o.Pz.q.T6  COH.F.gamma.o.Pz.r.O1  \\\n",
       "0                55.989192              16.739679              23.452271   \n",
       "1                45.595619              17.510824              26.777368   \n",
       "2                99.475453              70.654171              39.131547   \n",
       "3                59.986561              63.822201              36.478254   \n",
       "4                61.462720              59.166097              51.465531   \n",
       "..                     ...                    ...                    ...   \n",
       "940              82.905657              34.850706              63.970519   \n",
       "941              65.917918              66.700117              44.756285   \n",
       "942              61.040959              27.632209              45.552852   \n",
       "943              99.113664              48.328934              41.248470   \n",
       "944              78.600293              68.255430              70.687410   \n",
       "\n",
       "     COH.F.gamma.o.Pz.s.O2  COH.F.gamma.p.P4.q.T6  COH.F.gamma.p.P4.r.O1  \\\n",
       "0                45.678820              30.167520              16.918761   \n",
       "1                28.201062              57.108861              32.375401   \n",
       "2                69.920996              71.063644              38.534505   \n",
       "3                47.117006              84.658376              24.724096   \n",
       "4                58.635415              80.685608              62.138436   \n",
       "..                     ...                    ...                    ...   \n",
       "940              63.982003              51.244725              62.203684   \n",
       "941              49.787513              98.905995              54.021304   \n",
       "942              33.638817              46.690983              19.382928   \n",
       "943              28.192238              48.665743              42.007147   \n",
       "944              74.433908              74.294750              53.254681   \n",
       "\n",
       "     COH.F.gamma.p.P4.s.O2  COH.F.gamma.q.T6.r.O1  COH.F.gamma.q.T6.s.O2  \\\n",
       "0                48.850427               9.422630              34.507082   \n",
       "1                60.351749              13.900981              57.831848   \n",
       "2                69.908764              27.180532              64.803155   \n",
       "3                50.299349              35.319695              79.822944   \n",
       "4                75.888749              61.003944              87.455509   \n",
       "..                     ...                    ...                    ...   \n",
       "940              62.062237              31.013031              31.183413   \n",
       "941              93.902401              52.740396              92.807331   \n",
       "942              41.050717               7.045821              41.962451   \n",
       "943              28.735945              27.176500              27.529522   \n",
       "944              72.755265              47.810386              80.166825   \n",
       "\n",
       "     COH.F.gamma.r.O1.s.O2  \n",
       "0                28.613029  \n",
       "1                43.463261  \n",
       "2                31.485799  \n",
       "3                41.141873  \n",
       "4                70.531662  \n",
       "..                     ...  \n",
       "940              98.325230  \n",
       "941              56.320868  \n",
       "942              19.092111  \n",
       "943              20.028446  \n",
       "944              64.380273  \n",
       "\n",
       "[945 rows x 1149 columns]>"
      ]
     },
     "execution_count": 14,
     "metadata": {},
     "output_type": "execute_result"
    }
   ],
   "source": [
    "data_uc.info"
   ]
  },
  {
   "cell_type": "code",
   "execution_count": 15,
   "id": "5005fcad",
   "metadata": {},
   "outputs": [
    {
     "data": {
      "text/html": [
       "<div>\n",
       "<style scoped>\n",
       "    .dataframe tbody tr th:only-of-type {\n",
       "        vertical-align: middle;\n",
       "    }\n",
       "\n",
       "    .dataframe tbody tr th {\n",
       "        vertical-align: top;\n",
       "    }\n",
       "\n",
       "    .dataframe thead th {\n",
       "        text-align: right;\n",
       "    }\n",
       "</style>\n",
       "<table border=\"1\" class=\"dataframe\">\n",
       "  <thead>\n",
       "    <tr style=\"text-align: right;\">\n",
       "      <th></th>\n",
       "      <th>no.</th>\n",
       "      <th>sex</th>\n",
       "      <th>age</th>\n",
       "      <th>eeg.date</th>\n",
       "      <th>education</th>\n",
       "      <th>IQ</th>\n",
       "      <th>main.disorder</th>\n",
       "      <th>specific.disorder</th>\n",
       "      <th>AB.A.delta.a.FP1</th>\n",
       "      <th>AB.A.delta.b.FP2</th>\n",
       "      <th>...</th>\n",
       "      <th>COH.F.gamma.o.Pz.p.P4</th>\n",
       "      <th>COH.F.gamma.o.Pz.q.T6</th>\n",
       "      <th>COH.F.gamma.o.Pz.r.O1</th>\n",
       "      <th>COH.F.gamma.o.Pz.s.O2</th>\n",
       "      <th>COH.F.gamma.p.P4.q.T6</th>\n",
       "      <th>COH.F.gamma.p.P4.r.O1</th>\n",
       "      <th>COH.F.gamma.p.P4.s.O2</th>\n",
       "      <th>COH.F.gamma.q.T6.r.O1</th>\n",
       "      <th>COH.F.gamma.q.T6.s.O2</th>\n",
       "      <th>COH.F.gamma.r.O1.s.O2</th>\n",
       "    </tr>\n",
       "  </thead>\n",
       "  <tbody>\n",
       "    <tr>\n",
       "      <th>0</th>\n",
       "      <td>1</td>\n",
       "      <td>M</td>\n",
       "      <td>57.0</td>\n",
       "      <td>2012.8.30</td>\n",
       "      <td>NaN</td>\n",
       "      <td>NaN</td>\n",
       "      <td>Addictive disorder</td>\n",
       "      <td>Alcohol use disorder</td>\n",
       "      <td>35.998557</td>\n",
       "      <td>21.717375</td>\n",
       "      <td>...</td>\n",
       "      <td>55.989192</td>\n",
       "      <td>16.739679</td>\n",
       "      <td>23.452271</td>\n",
       "      <td>45.678820</td>\n",
       "      <td>30.167520</td>\n",
       "      <td>16.918761</td>\n",
       "      <td>48.850427</td>\n",
       "      <td>9.422630</td>\n",
       "      <td>34.507082</td>\n",
       "      <td>28.613029</td>\n",
       "    </tr>\n",
       "    <tr>\n",
       "      <th>1</th>\n",
       "      <td>2</td>\n",
       "      <td>M</td>\n",
       "      <td>37.0</td>\n",
       "      <td>2012.9.6</td>\n",
       "      <td>6.0</td>\n",
       "      <td>120.0</td>\n",
       "      <td>Addictive disorder</td>\n",
       "      <td>Alcohol use disorder</td>\n",
       "      <td>13.425118</td>\n",
       "      <td>11.002916</td>\n",
       "      <td>...</td>\n",
       "      <td>45.595619</td>\n",
       "      <td>17.510824</td>\n",
       "      <td>26.777368</td>\n",
       "      <td>28.201062</td>\n",
       "      <td>57.108861</td>\n",
       "      <td>32.375401</td>\n",
       "      <td>60.351749</td>\n",
       "      <td>13.900981</td>\n",
       "      <td>57.831848</td>\n",
       "      <td>43.463261</td>\n",
       "    </tr>\n",
       "    <tr>\n",
       "      <th>2</th>\n",
       "      <td>3</td>\n",
       "      <td>M</td>\n",
       "      <td>32.0</td>\n",
       "      <td>2012.9.10</td>\n",
       "      <td>16.0</td>\n",
       "      <td>113.0</td>\n",
       "      <td>Addictive disorder</td>\n",
       "      <td>Alcohol use disorder</td>\n",
       "      <td>29.941780</td>\n",
       "      <td>27.544684</td>\n",
       "      <td>...</td>\n",
       "      <td>99.475453</td>\n",
       "      <td>70.654171</td>\n",
       "      <td>39.131547</td>\n",
       "      <td>69.920996</td>\n",
       "      <td>71.063644</td>\n",
       "      <td>38.534505</td>\n",
       "      <td>69.908764</td>\n",
       "      <td>27.180532</td>\n",
       "      <td>64.803155</td>\n",
       "      <td>31.485799</td>\n",
       "    </tr>\n",
       "    <tr>\n",
       "      <th>3</th>\n",
       "      <td>4</td>\n",
       "      <td>M</td>\n",
       "      <td>35.0</td>\n",
       "      <td>2012.10.8</td>\n",
       "      <td>18.0</td>\n",
       "      <td>126.0</td>\n",
       "      <td>Addictive disorder</td>\n",
       "      <td>Alcohol use disorder</td>\n",
       "      <td>21.496226</td>\n",
       "      <td>21.846832</td>\n",
       "      <td>...</td>\n",
       "      <td>59.986561</td>\n",
       "      <td>63.822201</td>\n",
       "      <td>36.478254</td>\n",
       "      <td>47.117006</td>\n",
       "      <td>84.658376</td>\n",
       "      <td>24.724096</td>\n",
       "      <td>50.299349</td>\n",
       "      <td>35.319695</td>\n",
       "      <td>79.822944</td>\n",
       "      <td>41.141873</td>\n",
       "    </tr>\n",
       "    <tr>\n",
       "      <th>4</th>\n",
       "      <td>5</td>\n",
       "      <td>M</td>\n",
       "      <td>36.0</td>\n",
       "      <td>2012.10.18</td>\n",
       "      <td>16.0</td>\n",
       "      <td>112.0</td>\n",
       "      <td>Addictive disorder</td>\n",
       "      <td>Alcohol use disorder</td>\n",
       "      <td>37.775667</td>\n",
       "      <td>33.607679</td>\n",
       "      <td>...</td>\n",
       "      <td>61.462720</td>\n",
       "      <td>59.166097</td>\n",
       "      <td>51.465531</td>\n",
       "      <td>58.635415</td>\n",
       "      <td>80.685608</td>\n",
       "      <td>62.138436</td>\n",
       "      <td>75.888749</td>\n",
       "      <td>61.003944</td>\n",
       "      <td>87.455509</td>\n",
       "      <td>70.531662</td>\n",
       "    </tr>\n",
       "  </tbody>\n",
       "</table>\n",
       "<p>5 rows × 1149 columns</p>\n",
       "</div>"
      ],
      "text/plain": [
       "   no. sex   age    eeg.date  education     IQ       main.disorder  \\\n",
       "0    1   M  57.0   2012.8.30        NaN    NaN  Addictive disorder   \n",
       "1    2   M  37.0    2012.9.6        6.0  120.0  Addictive disorder   \n",
       "2    3   M  32.0   2012.9.10       16.0  113.0  Addictive disorder   \n",
       "3    4   M  35.0   2012.10.8       18.0  126.0  Addictive disorder   \n",
       "4    5   M  36.0  2012.10.18       16.0  112.0  Addictive disorder   \n",
       "\n",
       "      specific.disorder  AB.A.delta.a.FP1  AB.A.delta.b.FP2  ...  \\\n",
       "0  Alcohol use disorder         35.998557         21.717375  ...   \n",
       "1  Alcohol use disorder         13.425118         11.002916  ...   \n",
       "2  Alcohol use disorder         29.941780         27.544684  ...   \n",
       "3  Alcohol use disorder         21.496226         21.846832  ...   \n",
       "4  Alcohol use disorder         37.775667         33.607679  ...   \n",
       "\n",
       "   COH.F.gamma.o.Pz.p.P4  COH.F.gamma.o.Pz.q.T6  COH.F.gamma.o.Pz.r.O1  \\\n",
       "0              55.989192              16.739679              23.452271   \n",
       "1              45.595619              17.510824              26.777368   \n",
       "2              99.475453              70.654171              39.131547   \n",
       "3              59.986561              63.822201              36.478254   \n",
       "4              61.462720              59.166097              51.465531   \n",
       "\n",
       "   COH.F.gamma.o.Pz.s.O2  COH.F.gamma.p.P4.q.T6  COH.F.gamma.p.P4.r.O1  \\\n",
       "0              45.678820              30.167520              16.918761   \n",
       "1              28.201062              57.108861              32.375401   \n",
       "2              69.920996              71.063644              38.534505   \n",
       "3              47.117006              84.658376              24.724096   \n",
       "4              58.635415              80.685608              62.138436   \n",
       "\n",
       "   COH.F.gamma.p.P4.s.O2  COH.F.gamma.q.T6.r.O1  COH.F.gamma.q.T6.s.O2  \\\n",
       "0              48.850427               9.422630              34.507082   \n",
       "1              60.351749              13.900981              57.831848   \n",
       "2              69.908764              27.180532              64.803155   \n",
       "3              50.299349              35.319695              79.822944   \n",
       "4              75.888749              61.003944              87.455509   \n",
       "\n",
       "   COH.F.gamma.r.O1.s.O2  \n",
       "0              28.613029  \n",
       "1              43.463261  \n",
       "2              31.485799  \n",
       "3              41.141873  \n",
       "4              70.531662  \n",
       "\n",
       "[5 rows x 1149 columns]"
      ]
     },
     "execution_count": 15,
     "metadata": {},
     "output_type": "execute_result"
    }
   ],
   "source": [
    "data_uc.head()"
   ]
  },
  {
   "cell_type": "code",
   "execution_count": 16,
   "id": "6350be86",
   "metadata": {},
   "outputs": [
    {
     "data": {
      "text/html": [
       "<div>\n",
       "<style scoped>\n",
       "    .dataframe tbody tr th:only-of-type {\n",
       "        vertical-align: middle;\n",
       "    }\n",
       "\n",
       "    .dataframe tbody tr th {\n",
       "        vertical-align: top;\n",
       "    }\n",
       "\n",
       "    .dataframe thead th {\n",
       "        text-align: right;\n",
       "    }\n",
       "</style>\n",
       "<table border=\"1\" class=\"dataframe\">\n",
       "  <thead>\n",
       "    <tr style=\"text-align: right;\">\n",
       "      <th></th>\n",
       "      <th>no.</th>\n",
       "      <th>age</th>\n",
       "      <th>education</th>\n",
       "      <th>IQ</th>\n",
       "      <th>AB.A.delta.a.FP1</th>\n",
       "      <th>AB.A.delta.b.FP2</th>\n",
       "      <th>AB.A.delta.c.F7</th>\n",
       "      <th>AB.A.delta.d.F3</th>\n",
       "      <th>AB.A.delta.e.Fz</th>\n",
       "      <th>AB.A.delta.f.F4</th>\n",
       "      <th>...</th>\n",
       "      <th>COH.F.gamma.o.Pz.p.P4</th>\n",
       "      <th>COH.F.gamma.o.Pz.q.T6</th>\n",
       "      <th>COH.F.gamma.o.Pz.r.O1</th>\n",
       "      <th>COH.F.gamma.o.Pz.s.O2</th>\n",
       "      <th>COH.F.gamma.p.P4.q.T6</th>\n",
       "      <th>COH.F.gamma.p.P4.r.O1</th>\n",
       "      <th>COH.F.gamma.p.P4.s.O2</th>\n",
       "      <th>COH.F.gamma.q.T6.r.O1</th>\n",
       "      <th>COH.F.gamma.q.T6.s.O2</th>\n",
       "      <th>COH.F.gamma.r.O1.s.O2</th>\n",
       "    </tr>\n",
       "  </thead>\n",
       "  <tbody>\n",
       "    <tr>\n",
       "      <th>count</th>\n",
       "      <td>945.000000</td>\n",
       "      <td>945.000000</td>\n",
       "      <td>930.000000</td>\n",
       "      <td>932.000000</td>\n",
       "      <td>945.000000</td>\n",
       "      <td>945.000000</td>\n",
       "      <td>945.000000</td>\n",
       "      <td>945.000000</td>\n",
       "      <td>945.000000</td>\n",
       "      <td>945.000000</td>\n",
       "      <td>...</td>\n",
       "      <td>945.000000</td>\n",
       "      <td>945.000000</td>\n",
       "      <td>945.000000</td>\n",
       "      <td>945.000000</td>\n",
       "      <td>945.000000</td>\n",
       "      <td>945.000000</td>\n",
       "      <td>945.000000</td>\n",
       "      <td>945.000000</td>\n",
       "      <td>945.000000</td>\n",
       "      <td>945.000000</td>\n",
       "    </tr>\n",
       "    <tr>\n",
       "      <th>mean</th>\n",
       "      <td>473.000000</td>\n",
       "      <td>30.594804</td>\n",
       "      <td>13.438710</td>\n",
       "      <td>101.580472</td>\n",
       "      <td>20.182936</td>\n",
       "      <td>21.177584</td>\n",
       "      <td>17.749553</td>\n",
       "      <td>18.901698</td>\n",
       "      <td>20.447079</td>\n",
       "      <td>19.490329</td>\n",
       "      <td>...</td>\n",
       "      <td>75.889633</td>\n",
       "      <td>55.049113</td>\n",
       "      <td>56.959796</td>\n",
       "      <td>60.739169</td>\n",
       "      <td>69.829254</td>\n",
       "      <td>47.862489</td>\n",
       "      <td>66.832798</td>\n",
       "      <td>39.301406</td>\n",
       "      <td>66.153213</td>\n",
       "      <td>57.056207</td>\n",
       "    </tr>\n",
       "    <tr>\n",
       "      <th>std</th>\n",
       "      <td>272.942302</td>\n",
       "      <td>11.781592</td>\n",
       "      <td>2.550461</td>\n",
       "      <td>17.022414</td>\n",
       "      <td>11.282022</td>\n",
       "      <td>12.230662</td>\n",
       "      <td>10.003598</td>\n",
       "      <td>9.079482</td>\n",
       "      <td>9.742912</td>\n",
       "      <td>9.252500</td>\n",
       "      <td>...</td>\n",
       "      <td>15.861641</td>\n",
       "      <td>19.541956</td>\n",
       "      <td>18.326785</td>\n",
       "      <td>18.052887</td>\n",
       "      <td>17.725321</td>\n",
       "      <td>19.685722</td>\n",
       "      <td>17.028701</td>\n",
       "      <td>20.790933</td>\n",
       "      <td>18.088548</td>\n",
       "      <td>19.600107</td>\n",
       "    </tr>\n",
       "    <tr>\n",
       "      <th>min</th>\n",
       "      <td>1.000000</td>\n",
       "      <td>18.000000</td>\n",
       "      <td>0.000000</td>\n",
       "      <td>49.000000</td>\n",
       "      <td>3.272260</td>\n",
       "      <td>3.244199</td>\n",
       "      <td>3.050507</td>\n",
       "      <td>3.412618</td>\n",
       "      <td>5.066593</td>\n",
       "      <td>4.048931</td>\n",
       "      <td>...</td>\n",
       "      <td>12.611954</td>\n",
       "      <td>0.519048</td>\n",
       "      <td>6.926792</td>\n",
       "      <td>0.708008</td>\n",
       "      <td>2.421748</td>\n",
       "      <td>0.036664</td>\n",
       "      <td>1.032207</td>\n",
       "      <td>1.228502</td>\n",
       "      <td>0.363268</td>\n",
       "      <td>3.988805</td>\n",
       "    </tr>\n",
       "    <tr>\n",
       "      <th>25%</th>\n",
       "      <td>237.000000</td>\n",
       "      <td>21.730000</td>\n",
       "      <td>12.000000</td>\n",
       "      <td>91.000000</td>\n",
       "      <td>12.784872</td>\n",
       "      <td>13.019269</td>\n",
       "      <td>11.134327</td>\n",
       "      <td>12.460586</td>\n",
       "      <td>13.548645</td>\n",
       "      <td>12.637717</td>\n",
       "      <td>...</td>\n",
       "      <td>68.014443</td>\n",
       "      <td>41.607506</td>\n",
       "      <td>43.682444</td>\n",
       "      <td>48.374883</td>\n",
       "      <td>58.937785</td>\n",
       "      <td>32.581046</td>\n",
       "      <td>55.872070</td>\n",
       "      <td>22.049743</td>\n",
       "      <td>54.710605</td>\n",
       "      <td>43.955229</td>\n",
       "    </tr>\n",
       "    <tr>\n",
       "      <th>50%</th>\n",
       "      <td>473.000000</td>\n",
       "      <td>26.150000</td>\n",
       "      <td>13.000000</td>\n",
       "      <td>102.000000</td>\n",
       "      <td>17.065286</td>\n",
       "      <td>17.838251</td>\n",
       "      <td>15.541469</td>\n",
       "      <td>16.733004</td>\n",
       "      <td>18.065276</td>\n",
       "      <td>17.432568</td>\n",
       "      <td>...</td>\n",
       "      <td>78.647712</td>\n",
       "      <td>55.158858</td>\n",
       "      <td>56.657348</td>\n",
       "      <td>61.257972</td>\n",
       "      <td>72.298636</td>\n",
       "      <td>45.719426</td>\n",
       "      <td>68.238375</td>\n",
       "      <td>36.549938</td>\n",
       "      <td>67.988937</td>\n",
       "      <td>57.515871</td>\n",
       "    </tr>\n",
       "    <tr>\n",
       "      <th>75%</th>\n",
       "      <td>709.000000</td>\n",
       "      <td>35.450000</td>\n",
       "      <td>16.000000</td>\n",
       "      <td>114.000000</td>\n",
       "      <td>24.492760</td>\n",
       "      <td>25.654394</td>\n",
       "      <td>21.623961</td>\n",
       "      <td>23.347900</td>\n",
       "      <td>25.573096</td>\n",
       "      <td>23.956748</td>\n",
       "      <td>...</td>\n",
       "      <td>87.398387</td>\n",
       "      <td>69.740640</td>\n",
       "      <td>70.649245</td>\n",
       "      <td>73.979100</td>\n",
       "      <td>83.066877</td>\n",
       "      <td>62.081839</td>\n",
       "      <td>79.192418</td>\n",
       "      <td>54.169209</td>\n",
       "      <td>79.527764</td>\n",
       "      <td>71.626382</td>\n",
       "    </tr>\n",
       "    <tr>\n",
       "      <th>max</th>\n",
       "      <td>945.000000</td>\n",
       "      <td>71.880000</td>\n",
       "      <td>20.000000</td>\n",
       "      <td>145.000000</td>\n",
       "      <td>92.826192</td>\n",
       "      <td>101.515687</td>\n",
       "      <td>91.373456</td>\n",
       "      <td>82.544167</td>\n",
       "      <td>101.566662</td>\n",
       "      <td>77.197502</td>\n",
       "      <td>...</td>\n",
       "      <td>99.678649</td>\n",
       "      <td>100.000000</td>\n",
       "      <td>99.307895</td>\n",
       "      <td>100.000000</td>\n",
       "      <td>99.581629</td>\n",
       "      <td>98.720067</td>\n",
       "      <td>99.650154</td>\n",
       "      <td>98.413320</td>\n",
       "      <td>100.000000</td>\n",
       "      <td>99.287092</td>\n",
       "    </tr>\n",
       "  </tbody>\n",
       "</table>\n",
       "<p>8 rows × 1145 columns</p>\n",
       "</div>"
      ],
      "text/plain": [
       "              no.         age   education          IQ  AB.A.delta.a.FP1  \\\n",
       "count  945.000000  945.000000  930.000000  932.000000        945.000000   \n",
       "mean   473.000000   30.594804   13.438710  101.580472         20.182936   \n",
       "std    272.942302   11.781592    2.550461   17.022414         11.282022   \n",
       "min      1.000000   18.000000    0.000000   49.000000          3.272260   \n",
       "25%    237.000000   21.730000   12.000000   91.000000         12.784872   \n",
       "50%    473.000000   26.150000   13.000000  102.000000         17.065286   \n",
       "75%    709.000000   35.450000   16.000000  114.000000         24.492760   \n",
       "max    945.000000   71.880000   20.000000  145.000000         92.826192   \n",
       "\n",
       "       AB.A.delta.b.FP2  AB.A.delta.c.F7  AB.A.delta.d.F3  AB.A.delta.e.Fz  \\\n",
       "count        945.000000       945.000000       945.000000       945.000000   \n",
       "mean          21.177584        17.749553        18.901698        20.447079   \n",
       "std           12.230662        10.003598         9.079482         9.742912   \n",
       "min            3.244199         3.050507         3.412618         5.066593   \n",
       "25%           13.019269        11.134327        12.460586        13.548645   \n",
       "50%           17.838251        15.541469        16.733004        18.065276   \n",
       "75%           25.654394        21.623961        23.347900        25.573096   \n",
       "max          101.515687        91.373456        82.544167       101.566662   \n",
       "\n",
       "       AB.A.delta.f.F4  ...  COH.F.gamma.o.Pz.p.P4  COH.F.gamma.o.Pz.q.T6  \\\n",
       "count       945.000000  ...             945.000000             945.000000   \n",
       "mean         19.490329  ...              75.889633              55.049113   \n",
       "std           9.252500  ...              15.861641              19.541956   \n",
       "min           4.048931  ...              12.611954               0.519048   \n",
       "25%          12.637717  ...              68.014443              41.607506   \n",
       "50%          17.432568  ...              78.647712              55.158858   \n",
       "75%          23.956748  ...              87.398387              69.740640   \n",
       "max          77.197502  ...              99.678649             100.000000   \n",
       "\n",
       "       COH.F.gamma.o.Pz.r.O1  COH.F.gamma.o.Pz.s.O2  COH.F.gamma.p.P4.q.T6  \\\n",
       "count             945.000000             945.000000             945.000000   \n",
       "mean               56.959796              60.739169              69.829254   \n",
       "std                18.326785              18.052887              17.725321   \n",
       "min                 6.926792               0.708008               2.421748   \n",
       "25%                43.682444              48.374883              58.937785   \n",
       "50%                56.657348              61.257972              72.298636   \n",
       "75%                70.649245              73.979100              83.066877   \n",
       "max                99.307895             100.000000              99.581629   \n",
       "\n",
       "       COH.F.gamma.p.P4.r.O1  COH.F.gamma.p.P4.s.O2  COH.F.gamma.q.T6.r.O1  \\\n",
       "count             945.000000             945.000000             945.000000   \n",
       "mean               47.862489              66.832798              39.301406   \n",
       "std                19.685722              17.028701              20.790933   \n",
       "min                 0.036664               1.032207               1.228502   \n",
       "25%                32.581046              55.872070              22.049743   \n",
       "50%                45.719426              68.238375              36.549938   \n",
       "75%                62.081839              79.192418              54.169209   \n",
       "max                98.720067              99.650154              98.413320   \n",
       "\n",
       "       COH.F.gamma.q.T6.s.O2  COH.F.gamma.r.O1.s.O2  \n",
       "count             945.000000             945.000000  \n",
       "mean               66.153213              57.056207  \n",
       "std                18.088548              19.600107  \n",
       "min                 0.363268               3.988805  \n",
       "25%                54.710605              43.955229  \n",
       "50%                67.988937              57.515871  \n",
       "75%                79.527764              71.626382  \n",
       "max               100.000000              99.287092  \n",
       "\n",
       "[8 rows x 1145 columns]"
      ]
     },
     "execution_count": 16,
     "metadata": {},
     "output_type": "execute_result"
    }
   ],
   "source": [
    "data_uc.describe()"
   ]
  },
  {
   "cell_type": "markdown",
   "id": "ded99889",
   "metadata": {},
   "source": [
    "# Correct the datatypes"
   ]
  },
  {
   "cell_type": "code",
   "execution_count": 17,
   "id": "4852ad1a",
   "metadata": {},
   "outputs": [
    {
     "data": {
      "text/plain": [
       "no.                        int64\n",
       "sex                       object\n",
       "age                      float64\n",
       "eeg.date                  object\n",
       "education                float64\n",
       "                          ...   \n",
       "COH.F.gamma.p.P4.r.O1    float64\n",
       "COH.F.gamma.p.P4.s.O2    float64\n",
       "COH.F.gamma.q.T6.r.O1    float64\n",
       "COH.F.gamma.q.T6.s.O2    float64\n",
       "COH.F.gamma.r.O1.s.O2    float64\n",
       "Length: 1149, dtype: object"
      ]
     },
     "execution_count": 17,
     "metadata": {},
     "output_type": "execute_result"
    }
   ],
   "source": [
    "data_uc.dtypes"
   ]
  },
  {
   "cell_type": "code",
   "execution_count": 18,
   "id": "5711a8fa",
   "metadata": {},
   "outputs": [
    {
     "name": "stdout",
     "output_type": "stream",
     "text": [
      "['sex', 'eeg.date', 'main.disorder', 'specific.disorder']\n"
     ]
    }
   ],
   "source": [
    "# with 1149 columns that cannot all be visualized at once, need to be sure which columns contain which datatypes\n",
    "dtype_object = list(data_uc.select_dtypes('object').columns)\n",
    "print(dtype_object)"
   ]
  },
  {
   "cell_type": "code",
   "execution_count": 19,
   "id": "a9a9f3ee",
   "metadata": {},
   "outputs": [
    {
     "name": "stdout",
     "output_type": "stream",
     "text": [
      "1144\n"
     ]
    }
   ],
   "source": [
    "print(len(list(data_uc.select_dtypes('float64').columns)))"
   ]
  },
  {
   "cell_type": "markdown",
   "id": "8c0feb1c",
   "metadata": {},
   "source": [
    "no. - int64 and unique identifier column\n",
    "\n",
    "sex, eeg.date, main.disorder, specific.disorder - object\n",
    "\n",
    "age, education, IQ, all EEG measurements - float64"
   ]
  },
  {
   "cell_type": "code",
   "execution_count": 20,
   "id": "1d694692",
   "metadata": {},
   "outputs": [
    {
     "data": {
      "text/plain": [
       "no.                               int64\n",
       "sex                              object\n",
       "age                             float64\n",
       "eeg.date                 datetime64[ns]\n",
       "education                       float64\n",
       "                              ...      \n",
       "COH.F.gamma.p.P4.r.O1           float64\n",
       "COH.F.gamma.p.P4.s.O2           float64\n",
       "COH.F.gamma.q.T6.r.O1           float64\n",
       "COH.F.gamma.q.T6.s.O2           float64\n",
       "COH.F.gamma.r.O1.s.O2           float64\n",
       "Length: 1149, dtype: object"
      ]
     },
     "execution_count": 20,
     "metadata": {},
     "output_type": "execute_result"
    }
   ],
   "source": [
    "# Convert eeg.date to datetime\n",
    "data_uc['eeg.date'] = pd.to_datetime(data_uc['eeg.date'])\n",
    "#confirmed fix\n",
    "data_uc.dtypes"
   ]
  },
  {
   "cell_type": "code",
   "execution_count": 21,
   "id": "090c4a2f",
   "metadata": {},
   "outputs": [
    {
     "data": {
      "text/plain": [
       "<AxesSubplot:>"
      ]
     },
     "execution_count": 21,
     "metadata": {},
     "output_type": "execute_result"
    },
    {
     "data": {
      "image/png": "[encoded data removed]",
      "text/plain": [
       "<Figure size 432x288 with 1 Axes>"
      ]
     },
     "metadata": {
      "needs_background": "light"
     },
     "output_type": "display_data"
    }
   ],
   "source": [
    "# recorded binary M/F genders - 601 M, 344 F\n",
    "sex_count = data_uc['sex'].value_counts()\n",
    "sex_count.plot(kind='bar')"
   ]
  },
  {
   "cell_type": "markdown",
   "id": "dd29dbe8",
   "metadata": {},
   "source": [
    "# Identify and replace missing data and empty columns"
   ]
  },
  {
   "cell_type": "markdown",
   "id": "858118ce",
   "metadata": {},
   "source": [
    "Look at full rows and columns with missing data to assess how to handle them"
   ]
  },
  {
   "cell_type": "code",
   "execution_count": 22,
   "id": "71166974",
   "metadata": {
    "scrolled": true
   },
   "outputs": [
    {
     "name": "stdout",
     "output_type": "stream",
     "text": [
      "Unnamed: 122             945\n",
      "education                 15\n",
      "IQ                        13\n",
      "no.                        0\n",
      "COH.D.beta.j.Cz.m.T5       0\n",
      "                        ... \n",
      "COH.B.theta.g.F8.l.T4      0\n",
      "COH.B.theta.g.F8.m.T5      0\n",
      "COH.B.theta.g.F8.n.P3      0\n",
      "COH.B.theta.g.F8.o.Pz      0\n",
      "COH.F.gamma.r.O1.s.O2      0\n",
      "Length: 1149, dtype: int64\n"
     ]
    }
   ],
   "source": [
    "# what about missing values?\n",
    "missing = data_uc.isnull().sum().sort_values(ascending=False)\n",
    "print(missing)"
   ]
  },
  {
   "cell_type": "code",
   "execution_count": 23,
   "id": "43970e84",
   "metadata": {},
   "outputs": [],
   "source": [
    "# missing entire column 122\n",
    "data_uc = data_uc.drop(columns='Unnamed: 122')"
   ]
  },
  {
   "cell_type": "code",
   "execution_count": 24,
   "id": "48bcd5cc",
   "metadata": {},
   "outputs": [
    {
     "name": "stdout",
     "output_type": "stream",
     "text": [
      "     no. sex    age   eeg.date  education     IQ  \\\n",
      "0      1   M  57.00 2012-08-30        NaN    NaN   \n",
      "17    18   M  30.00 2013-09-27        NaN   86.0   \n",
      "21    22   M  20.00 2014-10-23        NaN  116.0   \n",
      "33    34   F  19.26 2013-08-05       12.0    NaN   \n",
      "38    39   F  19.47 2014-05-26       12.0    NaN   \n",
      "42    43   F  32.94 2014-10-16       16.0    NaN   \n",
      "43    44   F  22.65 2014-11-08       13.0    NaN   \n",
      "60    61   M  34.00 2016-03-10       12.0    NaN   \n",
      "92    93   F  39.18 2017-03-03       16.0    NaN   \n",
      "93    94   F  28.42 2017-03-20        9.0    NaN   \n",
      "155  156   M  18.00 2013-12-07        NaN  103.0   \n",
      "173  174   M  23.00 2015-11-14        NaN  113.0   \n",
      "223  224   M  19.00 2016-07-12       12.0    NaN   \n",
      "225  226   M  20.00 2016-09-13       13.0    NaN   \n",
      "234  235   M  20.00 2017-11-22       13.0    NaN   \n",
      "269  270   M  25.00 2015-09-23        NaN   85.0   \n",
      "270  271   M  34.00 2015-09-21        NaN  120.0   \n",
      "278  279   M  21.00 2016-05-13       15.0    NaN   \n",
      "279  280   M  35.00 2016-06-02        NaN    NaN   \n",
      "280  281   M  37.00 2016-06-27        NaN  110.0   \n",
      "281  282   M  22.00 2016-06-30        NaN  107.0   \n",
      "384  385   F  51.38 2011-12-27        NaN   97.0   \n",
      "417  418   F  53.67 2013-04-18        NaN  101.0   \n",
      "433  434   M  34.16 2013-04-11        NaN  142.0   \n",
      "845  846   M  21.29 2013-03-25        NaN   82.0   \n",
      "920  921   M  24.00 2013-02-01        NaN  114.0   \n",
      "\n",
      "                          main.disorder               specific.disorder  \\\n",
      "0                    Addictive disorder            Alcohol use disorder   \n",
      "17                   Addictive disorder            Alcohol use disorder   \n",
      "21                   Addictive disorder            Alcohol use disorder   \n",
      "33   Trauma and stress related disorder           Acute stress disorder   \n",
      "38   Trauma and stress related disorder           Acute stress disorder   \n",
      "42   Trauma and stress related disorder           Acute stress disorder   \n",
      "43   Trauma and stress related disorder           Acute stress disorder   \n",
      "60                   Addictive disorder            Alcohol use disorder   \n",
      "92                        Mood disorder             Depressive disorder   \n",
      "93                        Mood disorder             Depressive disorder   \n",
      "155                  Addictive disorder   Behavioral addiction disorder   \n",
      "173                     Healthy control                 Healthy control   \n",
      "223                  Addictive disorder   Behavioral addiction disorder   \n",
      "225                  Addictive disorder   Behavioral addiction disorder   \n",
      "234                  Addictive disorder   Behavioral addiction disorder   \n",
      "269       Obsessive compulsive disorder  Obsessive compulsitve disorder   \n",
      "270       Obsessive compulsive disorder  Obsessive compulsitve disorder   \n",
      "278       Obsessive compulsive disorder  Obsessive compulsitve disorder   \n",
      "279       Obsessive compulsive disorder  Obsessive compulsitve disorder   \n",
      "280       Obsessive compulsive disorder  Obsessive compulsitve disorder   \n",
      "281       Obsessive compulsive disorder  Obsessive compulsitve disorder   \n",
      "384                       Mood disorder             Depressive disorder   \n",
      "417  Trauma and stress related disorder   Posttraumatic stress disorder   \n",
      "433                    Anxiety disorder                  Panic disorder   \n",
      "845                       Mood disorder                Bipolar disorder   \n",
      "920                     Healthy control                 Healthy control   \n",
      "\n",
      "     AB.A.delta.a.FP1  AB.A.delta.b.FP2  ...  COH.F.gamma.o.Pz.p.P4  \\\n",
      "0           35.998557         21.717375  ...              55.989192   \n",
      "17          12.443237         12.503703  ...              85.080600   \n",
      "21          28.287190         22.412264  ...              33.065475   \n",
      "33          28.675766         25.368575  ...              55.433681   \n",
      "38          22.225112         32.080652  ...              88.612024   \n",
      "42          13.935050         15.881887  ...              82.304986   \n",
      "43           7.654964          8.817443  ...              71.384660   \n",
      "60          24.662682         26.633415  ...              97.604816   \n",
      "92          26.650019         22.823161  ...              86.582363   \n",
      "93          14.624474         14.277301  ...              85.309981   \n",
      "155         16.548803         19.042179  ...              93.825121   \n",
      "173         19.050158         23.277470  ...              68.005720   \n",
      "223         19.562561         18.757651  ...              99.086203   \n",
      "225         19.929100         25.196375  ...              55.311062   \n",
      "234         26.181641         25.902261  ...              55.600905   \n",
      "269          6.186264          7.112847  ...              72.743284   \n",
      "270         12.784872         15.922964  ...              72.409132   \n",
      "278         14.310468         13.947459  ...              89.547143   \n",
      "279         21.524573         22.227615  ...              90.934877   \n",
      "280         11.971083         11.374465  ...              91.150863   \n",
      "281         12.516343         10.136242  ...              96.419647   \n",
      "384         22.447072         23.372886  ...              69.824733   \n",
      "417         28.945841         27.827136  ...              79.557166   \n",
      "433         11.321486         12.876858  ...              75.572855   \n",
      "845         19.273073         22.619817  ...              77.218730   \n",
      "920         12.365246         12.376312  ...              39.047998   \n",
      "\n",
      "     COH.F.gamma.o.Pz.q.T6  COH.F.gamma.o.Pz.r.O1  COH.F.gamma.o.Pz.s.O2  \\\n",
      "0                16.739679              23.452271              45.678820   \n",
      "17               53.533875              62.817411              68.040950   \n",
      "21               24.351780              18.764173              32.610337   \n",
      "33               38.850170              26.148667              47.985078   \n",
      "38               31.851385              71.492767              66.625765   \n",
      "42               35.778208              51.590379              69.394510   \n",
      "43               53.146196              50.763161              48.218404   \n",
      "60               95.104526              97.025922              97.052166   \n",
      "92               83.045735              85.752150              85.875624   \n",
      "93               58.218838              61.211830              65.038486   \n",
      "155              79.091595              83.132315              88.900783   \n",
      "173              54.685472              70.694110              62.676608   \n",
      "223              73.915448              71.366953              65.936308   \n",
      "225              41.704892              42.664264              43.168072   \n",
      "234              52.570750              63.352329              56.718679   \n",
      "269              63.723838              61.257858              67.473157   \n",
      "270              49.265064              41.222401              68.010480   \n",
      "278              67.459569              74.774030              78.332064   \n",
      "279              93.568209              94.185299              92.271775   \n",
      "280              78.359575              64.861521              74.389105   \n",
      "281              77.360976              95.156801              96.105427   \n",
      "384              36.125327              57.725811              65.091700   \n",
      "417              44.898568              38.595052              52.696775   \n",
      "433              48.538940              59.263482              51.085944   \n",
      "845              42.084331              56.041380              60.393393   \n",
      "920              29.437797              30.835404              36.996624   \n",
      "\n",
      "     COH.F.gamma.p.P4.q.T6  COH.F.gamma.p.P4.r.O1  COH.F.gamma.p.P4.s.O2  \\\n",
      "0                30.167520              16.918761              48.850427   \n",
      "17               71.834549              48.779049              80.516443   \n",
      "21               38.451805              20.933501              48.626712   \n",
      "33               51.488546              14.825718              43.673794   \n",
      "38               41.680153              63.765404              69.962801   \n",
      "42               42.345197              38.359888              65.911075   \n",
      "43               62.170664              29.709467              63.736984   \n",
      "60               98.271856              95.450499              98.409254   \n",
      "92               86.286859              79.520327              84.541455   \n",
      "93               76.899037              49.849540              71.791429   \n",
      "155              87.508591              76.257681              89.811513   \n",
      "173              67.705314              46.667642              66.673782   \n",
      "223              74.118423              71.112596              65.958969   \n",
      "225              52.343338              44.091132              53.027750   \n",
      "234              50.730215              43.232550              48.923926   \n",
      "269              77.664778              57.967084              73.898719   \n",
      "270              72.429188              26.188907              68.653874   \n",
      "278              78.747229              70.897262              81.072061   \n",
      "279              96.445879              91.470862              96.851513   \n",
      "280              89.863923              50.322649              75.469583   \n",
      "281              87.746498              94.760227              97.579921   \n",
      "384              72.181821              40.525440              86.372555   \n",
      "417              67.551103              26.242817              60.947459   \n",
      "433              73.637375              48.867160              63.505985   \n",
      "845              65.940762              46.064102              65.652418   \n",
      "920              45.817610              24.923181              42.838523   \n",
      "\n",
      "     COH.F.gamma.q.T6.r.O1  COH.F.gamma.q.T6.s.O2  COH.F.gamma.r.O1.s.O2  \n",
      "0                 9.422630              34.507082              28.613029  \n",
      "17               22.049743              76.277261              45.629506  \n",
      "21               16.258394              40.471735              24.175359  \n",
      "33               13.046605              58.780474              35.502275  \n",
      "38               24.444437              37.372267              78.952315  \n",
      "42               17.956781              42.866412              64.560631  \n",
      "43               17.760679              49.790445              19.860203  \n",
      "60               92.471287              97.838293              96.528896  \n",
      "92               82.452224              86.950905              87.384296  \n",
      "93               39.910653              82.739819              62.285969  \n",
      "155              62.739950              84.729816              86.322844  \n",
      "173              29.689482              74.787580              51.039538  \n",
      "223              53.988693              64.461049              62.349880  \n",
      "225              36.531741              47.918328              44.423062  \n",
      "234              39.651438              62.660650              55.193196  \n",
      "269              59.775191              81.941728              72.195171  \n",
      "270              18.072318              63.285321              41.822238  \n",
      "278              60.112940              72.145512              84.786535  \n",
      "279              92.296182              96.209585              96.660561  \n",
      "280              49.440177              84.022887              69.921675  \n",
      "281              81.495805              86.770154              98.121870  \n",
      "384              31.028827              71.640785              57.695359  \n",
      "417              21.389958              68.235129              44.300820  \n",
      "433              43.112756              79.439438              59.046447  \n",
      "845              38.635590              67.548509              69.476872  \n",
      "920              28.221192              60.766461              59.327387  \n",
      "\n",
      "[26 rows x 1148 columns]\n"
     ]
    }
   ],
   "source": [
    "# missing education from 15 rows and IQ from 13 (only one row missing both)\n",
    "rows_missing = data_uc[data_uc.isnull().any(axis=1)]\n",
    "print(rows_missing)"
   ]
  },
  {
   "cell_type": "code",
   "execution_count": 25,
   "id": "04a1deaa",
   "metadata": {
    "scrolled": true
   },
   "outputs": [
    {
     "data": {
      "image/png": "[encoded data removed]",
      "text/plain": [
       "<Figure size 1800x720 with 2 Axes>"
      ]
     },
     "metadata": {
      "needs_background": "light"
     },
     "output_type": "display_data"
    }
   ],
   "source": [
    "# missing values seem random\n",
    "cols = data_uc[data_uc.columns[:8]]\n",
    "msno.matrix(cols)\n",
    "plt.show()"
   ]
  },
  {
   "cell_type": "code",
   "execution_count": 26,
   "id": "4d39cb4e",
   "metadata": {
    "scrolled": true
   },
   "outputs": [
    {
     "data": {
      "text/plain": [
       "<AxesSubplot:>"
      ]
     },
     "execution_count": 26,
     "metadata": {},
     "output_type": "execute_result"
    },
    {
     "data": {
      "image/png": "[encoded data removed]",
      "text/plain": [
       "<Figure size 1728x720 with 3 Axes>"
      ]
     },
     "metadata": {
      "needs_background": "light"
     },
     "output_type": "display_data"
    }
   ],
   "source": [
    "cols_missing = cols[cols.columns]\n",
    "msno.bar(cols)"
   ]
  },
  {
   "cell_type": "code",
   "execution_count": 27,
   "id": "93a39a51",
   "metadata": {
    "scrolled": true
   },
   "outputs": [
    {
     "name": "stdout",
     "output_type": "stream",
     "text": [
      "     no. sex   age   eeg.date  education     IQ       main.disorder  \\\n",
      "1      2   M  37.0 2012-09-06        6.0  120.0  Addictive disorder   \n",
      "2      3   M  32.0 2012-09-10       16.0  113.0  Addictive disorder   \n",
      "3      4   M  35.0 2012-10-08       18.0  126.0  Addictive disorder   \n",
      "4      5   M  36.0 2012-10-18       16.0  112.0  Addictive disorder   \n",
      "5      6   F  24.0 2012-11-21       14.0  105.0  Addictive disorder   \n",
      "..   ...  ..   ...        ...        ...    ...                 ...   \n",
      "940  941   M  22.0 2014-08-28       13.0  116.0     Healthy control   \n",
      "941  942   M  26.0 2014-09-19       13.0  118.0     Healthy control   \n",
      "942  943   M  26.0 2014-09-27       16.0  113.0     Healthy control   \n",
      "943  944   M  24.0 2014-09-20       13.0  107.0     Healthy control   \n",
      "944  945   M  21.0 2015-10-23       13.0  105.0     Healthy control   \n",
      "\n",
      "        specific.disorder  AB.A.delta.a.FP1  AB.A.delta.b.FP2  ...  \\\n",
      "1    Alcohol use disorder         13.425118         11.002916  ...   \n",
      "2    Alcohol use disorder         29.941780         27.544684  ...   \n",
      "3    Alcohol use disorder         21.496226         21.846832  ...   \n",
      "4    Alcohol use disorder         37.775667         33.607679  ...   \n",
      "5    Alcohol use disorder         13.482096         14.095855  ...   \n",
      "..                    ...               ...               ...  ...   \n",
      "940       Healthy control         41.851823         36.771496  ...   \n",
      "941       Healthy control         18.986856         19.401387  ...   \n",
      "942       Healthy control         28.781317         32.369230  ...   \n",
      "943       Healthy control         19.929100         25.196375  ...   \n",
      "944       Healthy control         65.195346         69.241972  ...   \n",
      "\n",
      "     COH.F.gamma.o.Pz.p.P4  COH.F.gamma.o.Pz.q.T6  COH.F.gamma.o.Pz.r.O1  \\\n",
      "1                45.595619              17.510824              26.777368   \n",
      "2                99.475453              70.654171              39.131547   \n",
      "3                59.986561              63.822201              36.478254   \n",
      "4                61.462720              59.166097              51.465531   \n",
      "5                92.841723              82.302355              83.938567   \n",
      "..                     ...                    ...                    ...   \n",
      "940              82.905657              34.850706              63.970519   \n",
      "941              65.917918              66.700117              44.756285   \n",
      "942              61.040959              27.632209              45.552852   \n",
      "943              99.113664              48.328934              41.248470   \n",
      "944              78.600293              68.255430              70.687410   \n",
      "\n",
      "     COH.F.gamma.o.Pz.s.O2  COH.F.gamma.p.P4.q.T6  COH.F.gamma.p.P4.r.O1  \\\n",
      "1                28.201062              57.108861              32.375401   \n",
      "2                69.920996              71.063644              38.534505   \n",
      "3                47.117006              84.658376              24.724096   \n",
      "4                58.635415              80.685608              62.138436   \n",
      "5                88.213886              90.972026              77.443894   \n",
      "..                     ...                    ...                    ...   \n",
      "940              63.982003              51.244725              62.203684   \n",
      "941              49.787513              98.905995              54.021304   \n",
      "942              33.638817              46.690983              19.382928   \n",
      "943              28.192238              48.665743              42.007147   \n",
      "944              74.433908              74.294750              53.254681   \n",
      "\n",
      "     COH.F.gamma.p.P4.s.O2  COH.F.gamma.q.T6.r.O1  COH.F.gamma.q.T6.s.O2  \\\n",
      "1                60.351749              13.900981              57.831848   \n",
      "2                69.908764              27.180532              64.803155   \n",
      "3                50.299349              35.319695              79.822944   \n",
      "4                75.888749              61.003944              87.455509   \n",
      "5                89.545596              72.579530              89.462863   \n",
      "..                     ...                    ...                    ...   \n",
      "940              62.062237              31.013031              31.183413   \n",
      "941              93.902401              52.740396              92.807331   \n",
      "942              41.050717               7.045821              41.962451   \n",
      "943              28.735945              27.176500              27.529522   \n",
      "944              72.755265              47.810386              80.166825   \n",
      "\n",
      "     COH.F.gamma.r.O1.s.O2  \n",
      "1                43.463261  \n",
      "2                31.485799  \n",
      "3                41.141873  \n",
      "4                70.531662  \n",
      "5                86.127823  \n",
      "..                     ...  \n",
      "940              98.325230  \n",
      "941              56.320868  \n",
      "942              19.092111  \n",
      "943              20.028446  \n",
      "944              64.380273  \n",
      "\n",
      "[919 rows x 1148 columns]\n"
     ]
    }
   ],
   "source": [
    "# drop NaN rows\n",
    "data = data_uc[~data_uc.isnull().any(axis=1)]\n",
    "print(data)"
   ]
  },
  {
   "cell_type": "code",
   "execution_count": 28,
   "id": "b2209047",
   "metadata": {
    "scrolled": true
   },
   "outputs": [
    {
     "data": {
      "image/png": "[encoded data removed]",
      "text/plain": [
       "<Figure size 1800x720 with 2 Axes>"
      ]
     },
     "metadata": {
      "needs_background": "light"
     },
     "output_type": "display_data"
    }
   ],
   "source": [
    "# confirm dropped\n",
    "cols2 = data[data.columns[:8]]\n",
    "msno.matrix(cols2)\n",
    "plt.show()"
   ]
  },
  {
   "cell_type": "markdown",
   "id": "bfb58ea7",
   "metadata": {},
   "source": [
    "Create dataframes that are easier to work with for EDA"
   ]
  },
  {
   "cell_type": "code",
   "execution_count": 29,
   "id": "7f8e30fa",
   "metadata": {},
   "outputs": [],
   "source": [
    "# create COH coherence/FC dataframe, number of columns 1026 (171 * 6 bands)\n",
    "coherence = data.filter(regex=r'(^C.*)')"
   ]
  },
  {
   "cell_type": "code",
   "execution_count": 30,
   "id": "26d22df9",
   "metadata": {},
   "outputs": [],
   "source": [
    "id_df = data.iloc[:,0:8]"
   ]
  },
  {
   "cell_type": "code",
   "execution_count": 31,
   "id": "44dd21cd",
   "metadata": {},
   "outputs": [
    {
     "name": "stdout",
     "output_type": "stream",
     "text": [
      "no.                           int64\n",
      "sex                        category\n",
      "age                         float64\n",
      "eeg.date             datetime64[ns]\n",
      "education                   float64\n",
      "IQ                          float64\n",
      "main.disorder              category\n",
      "specific.disorder          category\n",
      "dtype: object\n"
     ]
    }
   ],
   "source": [
    "id_df['sex'] = id_df['sex'].astype('category')\n",
    "id_df['main.disorder'] = id_df['main.disorder'].astype('category')\n",
    "id_df['specific.disorder'] = id_df['specific.disorder'].astype('category')\n",
    "print(id_df.dtypes)"
   ]
  },
  {
   "cell_type": "code",
   "execution_count": 32,
   "id": "015a3c93",
   "metadata": {},
   "outputs": [],
   "source": [
    "id_df['sex_cat'] = id_df['sex'].cat.codes\n",
    "id_df['main.disorder_cat'] = id_df['main.disorder'].cat.codes\n",
    "id_df['specific.disorder_cat'] = id_df['specific.disorder'].cat.codes"
   ]
  },
  {
   "cell_type": "code",
   "execution_count": 33,
   "id": "01f94c41",
   "metadata": {
    "scrolled": true
   },
   "outputs": [
    {
     "name": "stdout",
     "output_type": "stream",
     "text": [
      "     no. sex   age   eeg.date  education     IQ       main.disorder  \\\n",
      "1      2   M  37.0 2012-09-06        6.0  120.0  Addictive disorder   \n",
      "2      3   M  32.0 2012-09-10       16.0  113.0  Addictive disorder   \n",
      "3      4   M  35.0 2012-10-08       18.0  126.0  Addictive disorder   \n",
      "4      5   M  36.0 2012-10-18       16.0  112.0  Addictive disorder   \n",
      "5      6   F  24.0 2012-11-21       14.0  105.0  Addictive disorder   \n",
      "..   ...  ..   ...        ...        ...    ...                 ...   \n",
      "940  941   M  22.0 2014-08-28       13.0  116.0     Healthy control   \n",
      "941  942   M  26.0 2014-09-19       13.0  118.0     Healthy control   \n",
      "942  943   M  26.0 2014-09-27       16.0  113.0     Healthy control   \n",
      "943  944   M  24.0 2014-09-20       13.0  107.0     Healthy control   \n",
      "944  945   M  21.0 2015-10-23       13.0  105.0     Healthy control   \n",
      "\n",
      "        specific.disorder  sex_cat  main.disorder_cat  specific.disorder_cat  \n",
      "1    Alcohol use disorder        1                  0                      2  \n",
      "2    Alcohol use disorder        1                  0                      2  \n",
      "3    Alcohol use disorder        1                  0                      2  \n",
      "4    Alcohol use disorder        1                  0                      2  \n",
      "5    Alcohol use disorder        0                  0                      2  \n",
      "..                    ...      ...                ...                    ...  \n",
      "940       Healthy control        1                  2                      6  \n",
      "941       Healthy control        1                  2                      6  \n",
      "942       Healthy control        1                  2                      6  \n",
      "943       Healthy control        1                  2                      6  \n",
      "944       Healthy control        1                  2                      6  \n",
      "\n",
      "[919 rows x 11 columns]\n"
     ]
    }
   ],
   "source": [
    "print(id_df)"
   ]
  },
  {
   "cell_type": "code",
   "execution_count": 34,
   "id": "10572d10",
   "metadata": {},
   "outputs": [],
   "source": [
    "id_coherence = id_df.join(coherence)"
   ]
  },
  {
   "cell_type": "code",
   "execution_count": 35,
   "id": "9451d8b7",
   "metadata": {},
   "outputs": [],
   "source": [
    "# create PSD dataframe, number of columns 114 (19 * 6 bands)\n",
    "psd = data.filter(regex=r'(^AB.*)')\n",
    "id_psd = pd.concat(objs=[id_df, psd], axis=1)"
   ]
  },
  {
   "cell_type": "code",
   "execution_count": 36,
   "id": "afa512dc",
   "metadata": {},
   "outputs": [
    {
     "name": "stdout",
     "output_type": "stream",
     "text": [
      "                                  age  education      IQ  sex_cat\n",
      "specific.disorder                                                \n",
      "Acute stress disorder           29.53      14.38  104.06     0.09\n",
      "Adjustment disorder             34.19      13.16   94.24     0.71\n",
      "Alcohol use disorder            34.11      13.30  103.44     0.80\n",
      "Behavioral addiction disorder   25.36      13.18  104.39     0.96\n",
      "Bipolar disorder                29.84      14.11  101.09     0.62\n",
      "Depressive disorder             31.13      13.05  101.87     0.56\n",
      "Healthy control                 25.77      14.91  116.30     0.62\n",
      "Obsessive compulsitve disorder  28.40      13.90  108.02     0.80\n",
      "Panic disorder                  31.00      13.45   99.59     0.64\n",
      "Posttraumatic stress disorder   42.52      13.37   98.86     0.27\n",
      "Schizophrenia                   31.73      12.84   89.62     0.56\n",
      "Social anxiety disorder         26.51      12.77   95.85     0.85\n"
     ]
    }
   ],
   "source": [
    "# remove 'no.' column for plotting\n",
    "df1 = id_df.drop(columns=['no.','main.disorder_cat','specific.disorder_cat']).set_index('specific.disorder').groupby('specific.disorder').mean().round(2)\n",
    "print(df1)"
   ]
  },
  {
   "cell_type": "code",
   "execution_count": 37,
   "id": "64261455",
   "metadata": {},
   "outputs": [
    {
     "name": "stdout",
     "output_type": "stream",
     "text": [
      "                                      age  education      IQ  sex_cat\n",
      "main.disorder                                                        \n",
      "Addictive disorder                  29.73      13.24  103.92     0.88\n",
      "Anxiety disorder                    28.96      13.14   97.90     0.74\n",
      "Healthy control                     25.77      14.91  116.30     0.62\n",
      "Mood disorder                       30.81      13.32  101.68     0.57\n",
      "Obsessive compulsive disorder       28.40      13.90  108.02     0.80\n",
      "Schizophrenia                       31.73      12.84   89.62     0.56\n",
      "Trauma and stress related disorder  36.36      13.59   98.87     0.36\n"
     ]
    }
   ],
   "source": [
    "df2 = id_df.drop(columns=['no.', 'main.disorder_cat','specific.disorder_cat']).set_index('main.disorder').groupby('main.disorder').mean().round(2)\n",
    "print(df2)"
   ]
  }
 ],
 "metadata": {
  "kernelspec": {
   "display_name": "Python 3 (ipykernel)",
   "language": "python",
   "name": "python3"
  },
  "language_info": {
   "codemirror_mode": {
    "name": "ipython",
    "version": 3
   },
   "file_extension": ".py",
   "mimetype": "text/x-python",
   "name": "python",
   "nbconvert_exporter": "python",
   "pygments_lexer": "ipython3",
   "version": "3.9.7"
  }
 },
 "nbformat": 4,
 "nbformat_minor": 5
}
